{
 "cells": [
  {
   "cell_type": "code",
   "id": "39d9bbae-d13e-4d8a-b801-6300cc617f5c",
   "metadata": {
    "scrolled": true,
    "ExecuteTime": {
     "end_time": "2025-06-19T19:29:37.712731Z",
     "start_time": "2025-06-19T19:29:37.307303Z"
    }
   },
   "source": [
    "import mysql.connector\n",
    "# from _local_settings import dbconfig\n",
    "# print(dbconfig)\n",
    "HOST = 'ich-db.edu.itcareerhub.de'\n",
    "USER = 'ich1'\n",
    "PASSWORD = 'password'\n",
    "DATABASE = 'world'\n",
    "\n",
    "\n",
    "dbconfig = {\n",
    "    'host': HOST,\n",
    "    'user': USER,\n",
    "    'password': PASSWORD,\n",
    "    'database': DATABASE,\n",
    "}\n",
    "\n",
    "connection = mysql.connector.connect(**dbconfig)\n",
    "\n",
    "cursor = connection.cursor()\n"
   ],
   "outputs": [],
   "execution_count": 18
  },
  {
   "cell_type": "markdown",
   "id": "3acd8644-d0e3-4456-844d-02c178d8c754",
   "metadata": {},
   "source": [
    "## Загрузка DataFrame в SQLite"
   ]
  },
  {
   "metadata": {
    "ExecuteTime": {
     "end_time": "2025-06-19T19:23:03.833214Z",
     "start_time": "2025-06-19T19:23:03.789419Z"
    }
   },
   "cell_type": "code",
   "source": [
    "# Получение списка таблиц\n",
    "cursor.execute(\"SHOW TABLES;\")\n",
    "tables = cursor.fetchall()\n",
    "\n",
    "# Вывод списка таблиц\n",
    "print(\"Список таблиц в базе данных:\")\n",
    "for table in tables:\n",
    "    print(table[0])\n",
    "\n",
    "\n"
   ],
   "id": "4f0b8848e4ecebdc",
   "outputs": [
    {
     "name": "stdout",
     "output_type": "stream",
     "text": [
      "Список таблиц в базе данных:\n",
      "city\n",
      "country\n",
      "countrylanguage\n"
     ]
    }
   ],
   "execution_count": 12
  },
  {
   "cell_type": "markdown",
   "id": "b649e86f-6558-417e-911a-8d22d9583019",
   "metadata": {},
   "source": "### Закрываем подключение"
  },
  {
   "cell_type": "code",
   "id": "4850d590-8b86-454a-85a5-a4a782b95db0",
   "metadata": {
    "ExecuteTime": {
     "end_time": "2025-06-19T19:23:43.472537Z",
     "start_time": "2025-06-19T19:23:43.463652Z"
    }
   },
   "source": [
    "cursor.close()\n",
    "connection.close()"
   ],
   "outputs": [],
   "execution_count": 15
  }
 ],
 "metadata": {
  "kernelspec": {
   "display_name": "Python 3 (ipykernel)",
   "language": "python",
   "name": "python3"
  },
  "language_info": {
   "codemirror_mode": {
    "name": "ipython",
    "version": 3
   },
   "file_extension": ".py",
   "mimetype": "text/x-python",
   "name": "python",
   "nbconvert_exporter": "python",
   "pygments_lexer": "ipython3",
   "version": "3.8.10"
  }
 },
 "nbformat": 4,
 "nbformat_minor": 5
}
